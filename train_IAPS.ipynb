{
 "cells": [
  {
   "cell_type": "markdown",
   "metadata": {},
   "source": [
    "## Import Libraries"
   ]
  },
  {
   "cell_type": "code",
   "execution_count": 1,
   "metadata": {
    "_cell_guid": "b1076dfc-b9ad-4769-8c92-a6c4dae69d19",
    "_uuid": "8f2839f25d086af736a60e9eeb907d3b93b6e0e5"
   },
   "outputs": [],
   "source": [
    "\n",
    "import numpy as np # linear algebra\n",
    "import pandas as pd # data processing, CSV file I/O (e.g. pd.read_csv)\n",
    "\n",
    "import os,glob\n",
    "os.environ[\"CUDA_VISIBLE_DEVICES\"] = \"0\""
   ]
  },
  {
   "cell_type": "code",
   "execution_count": 2,
   "metadata": {
    "_cell_guid": "79c7e3d0-c299-4dcb-8224-4455121ee9b0",
    "_uuid": "d629ff2d2480ee46fbb7e2d37f6b5fab8052498a"
   },
   "outputs": [],
   "source": [
    "\n",
    "%matplotlib inline\n",
    "\n",
    "import fastai\n",
    "\n",
    "from fastai import *\n",
    "from fastai.vision import *\n",
    "\n",
    "from torchvision.models import *\n",
    "import pretrainedmodels\n",
    "\n",
    "import sys\n",
    "\n",
    "from fastai.callbacks.hooks import *\n",
    "\n",
    "from fastai.callbacks.tracker import EarlyStoppingCallback\n",
    "from fastai.callbacks.tracker import SaveModelCallback\n"
   ]
  },
  {
   "cell_type": "code",
   "execution_count": 3,
   "metadata": {},
   "outputs": [],
   "source": [
    "import scipy.io\n",
    "import numpy as np\n",
    "import pandas as pd\n",
    "from datetime import datetime, timedelta"
   ]
  },
  {
   "cell_type": "markdown",
   "metadata": {},
   "source": [
    "## Loading the Data"
   ]
  },
  {
   "cell_type": "code",
   "execution_count": 4,
   "metadata": {},
   "outputs": [],
   "source": [
    "from numpy import genfromtxt\n",
    "path_vad = '/home/liuchang/PDANet/IAPS/IAPS_VAD.txt'\n",
    "mat_vad = pd.read_csv(path_vad,sep='\\t',names=['image','v','a','d'])"
   ]
  },
  {
   "cell_type": "code",
   "execution_count": 8,
   "metadata": {},
   "outputs": [],
   "source": [
    "mat_vad['image']=['/path/to/dataset/IAPS/Dataset/{}.jpg'.format(i) for i in mat_vad['image']]"
   ]
  },
  {
   "cell_type": "code",
   "execution_count": 9,
   "metadata": {},
   "outputs": [],
   "source": [
    "mat_vad['v']=(mat_vad['v']-1)/8\n",
    "mat_vad['a']=(mat_vad['a']-1)/8\n",
    "mat_vad['d']=(mat_vad['d']-1)/8"
   ]
  },
  {
   "cell_type": "code",
   "execution_count": 10,
   "metadata": {},
   "outputs": [
    {
     "data": {
      "text/html": [
       "<div>\n",
       "<style scoped>\n",
       "    .dataframe tbody tr th:only-of-type {\n",
       "        vertical-align: middle;\n",
       "    }\n",
       "\n",
       "    .dataframe tbody tr th {\n",
       "        vertical-align: top;\n",
       "    }\n",
       "\n",
       "    .dataframe thead th {\n",
       "        text-align: right;\n",
       "    }\n",
       "</style>\n",
       "<table border=\"1\" class=\"dataframe\">\n",
       "  <thead>\n",
       "    <tr style=\"text-align: right;\">\n",
       "      <th></th>\n",
       "      <th>image</th>\n",
       "      <th>v</th>\n",
       "      <th>a</th>\n",
       "      <th>d</th>\n",
       "    </tr>\n",
       "  </thead>\n",
       "  <tbody>\n",
       "    <tr>\n",
       "      <th>0</th>\n",
       "      <td>/path/to/dataset/IAPS/Dataset//home/liuchang/P...</td>\n",
       "      <td>-0.078906</td>\n",
       "      <td>-0.050469</td>\n",
       "      <td>-0.074531</td>\n",
       "    </tr>\n",
       "    <tr>\n",
       "      <th>1</th>\n",
       "      <td>/path/to/dataset/IAPS/Dataset//home/liuchang/P...</td>\n",
       "      <td>-0.074063</td>\n",
       "      <td>-0.046563</td>\n",
       "      <td>-0.079687</td>\n",
       "    </tr>\n",
       "    <tr>\n",
       "      <th>2</th>\n",
       "      <td>/path/to/dataset/IAPS/Dataset//home/liuchang/P...</td>\n",
       "      <td>-0.076719</td>\n",
       "      <td>-0.052969</td>\n",
       "      <td>-0.071406</td>\n",
       "    </tr>\n",
       "    <tr>\n",
       "      <th>3</th>\n",
       "      <td>/path/to/dataset/IAPS/Dataset//home/liuchang/P...</td>\n",
       "      <td>-0.073438</td>\n",
       "      <td>-0.055313</td>\n",
       "      <td>-0.069375</td>\n",
       "    </tr>\n",
       "    <tr>\n",
       "      <th>4</th>\n",
       "      <td>/path/to/dataset/IAPS/Dataset//home/liuchang/P...</td>\n",
       "      <td>-0.080156</td>\n",
       "      <td>-0.044844</td>\n",
       "      <td>-0.082344</td>\n",
       "    </tr>\n",
       "  </tbody>\n",
       "</table>\n",
       "</div>"
      ],
      "text/plain": [
       "                                               image         v         a  \\\n",
       "0  /path/to/dataset/IAPS/Dataset//home/liuchang/P... -0.078906 -0.050469   \n",
       "1  /path/to/dataset/IAPS/Dataset//home/liuchang/P... -0.074063 -0.046563   \n",
       "2  /path/to/dataset/IAPS/Dataset//home/liuchang/P... -0.076719 -0.052969   \n",
       "3  /path/to/dataset/IAPS/Dataset//home/liuchang/P... -0.073438 -0.055313   \n",
       "4  /path/to/dataset/IAPS/Dataset//home/liuchang/P... -0.080156 -0.044844   \n",
       "\n",
       "          d  \n",
       "0 -0.074531  \n",
       "1 -0.079687  \n",
       "2 -0.071406  \n",
       "3 -0.069375  \n",
       "4 -0.082344  "
      ]
     },
     "execution_count": 10,
     "metadata": {},
     "output_type": "execute_result"
    }
   ],
   "source": [
    "mat_vad.head()"
   ]
  },
  {
   "cell_type": "code",
   "execution_count": 8,
   "metadata": {},
   "outputs": [
    {
     "data": {
      "text/plain": [
       "array([[<matplotlib.axes._subplots.AxesSubplot object at 0x7f8202373550>,\n",
       "        <matplotlib.axes._subplots.AxesSubplot object at 0x7f81ffc22a20>],\n",
       "       [<matplotlib.axes._subplots.AxesSubplot object at 0x7f81ffbcde80>,\n",
       "        <matplotlib.axes._subplots.AxesSubplot object at 0x7f81ffb7e438>]], dtype=object)"
      ]
     },
     "execution_count": 8,
     "metadata": {},
     "output_type": "execute_result"
    },
    {
     "data": {
      "image/png": "[encoded data removed]",
      "text/plain": [
       "<Figure size 432x288 with 4 Axes>"
      ]
     },
     "metadata": {
      "needs_background": "light"
     },
     "output_type": "display_data"
    }
   ],
   "source": [
    "mat_vad.hist()"
   ]
  },
  {
   "cell_type": "markdown",
   "metadata": {},
   "source": [
    "## Preparing the Data for Fastai Models"
   ]
  },
  {
   "cell_type": "code",
   "execution_count": 11,
   "metadata": {},
   "outputs": [],
   "source": [
    "tfms = get_transforms(max_lighting=None, do_flip=True)\n",
    "\n",
    "data_big = ImageList.from_df(mat_vad, '/', cols=['image'], folder ='.').split_by_rand_pct(0.2, seed=42).label_from_df(label_cls=FloatList,cols=['v','a','d']).transform(tfms, size=224).databunch(bs=24).normalize(imagenet_stats)"
   ]
  },
  {
   "cell_type": "markdown",
   "metadata": {},
   "source": [
    "## A look at the Images"
   ]
  },
  {
   "cell_type": "code",
   "execution_count": null,
   "metadata": {},
   "outputs": [],
   "source": [
    "data_big.show_batch(4, figsize=(12,12))"
   ]
  },
  {
   "cell_type": "markdown",
   "metadata": {},
   "source": [
    "## Fastai Modelling"
   ]
  },
  {
   "cell_type": "code",
   "execution_count": 13,
   "metadata": {},
   "outputs": [],
   "source": [
    "import torch\n",
    "import torch.nn as nn\n",
    "import torch.nn.functional as F\n",
    "from pathlib import Path\n",
    "import random"
   ]
  },
  {
   "cell_type": "code",
   "execution_count": 14,
   "metadata": {},
   "outputs": [],
   "source": [
    "class Model(nn.Module):\n",
    "    def __init__(self):\n",
    "        super().__init__()\n",
    "        layers = list(models.resnet50(pretrained=True).children())[:-1]\n",
    "        layers += [Flatten()]\n",
    "        layers += [nn.Linear(2048,128),nn.ReLU(),nn.Linear(128,3)]\n",
    "        self.model = nn.Sequential(*layers)\n",
    "    def forward(self, x):\n",
    "        out=self.model(x)\n",
    "        return out\n",
    "          # could add 116*torch.sigmoid"
   ]
  },
  {
   "cell_type": "code",
   "execution_count": 15,
   "metadata": {},
   "outputs": [],
   "source": [
    "model = Model()"
   ]
  },
  {
   "cell_type": "code",
   "execution_count": 16,
   "metadata": {},
   "outputs": [],
   "source": [
    "learn = Learner(data_big, model, model_dir = \"/path/to/models/model_IAPS/\", bn_wd=False,metrics=root_mean_squared_error,\n",
    "               callback_fns=[ShowGraph])\n",
    "# learn.loss_func = L1LossFlat()"
   ]
  },
  {
   "cell_type": "code",
   "execution_count": 18,
   "metadata": {},
   "outputs": [
    {
     "data": {
      "text/html": [
       "\n",
       "    <div>\n",
       "        <style>\n",
       "            /* Turns off some styling */\n",
       "            progress {\n",
       "                /* gets rid of default border in Firefox and Opera. */\n",
       "                border: none;\n",
       "                /* Needs to be in here for Safari polyfill so background images work as expected. */\n",
       "                background-size: auto;\n",
       "            }\n",
       "            .progress-bar-interrupted, .progress-bar-interrupted::-webkit-progress-bar {\n",
       "                background: #F44336;\n",
       "            }\n",
       "        </style>\n",
       "      <progress value='2' class='' max='3' style='width:300px; height:20px; vertical-align: middle;'></progress>\n",
       "      66.67% [2/3 00:12<00:06]\n",
       "    </div>\n",
       "    \n",
       "<table border=\"1\" class=\"dataframe\">\n",
       "  <thead>\n",
       "    <tr style=\"text-align: left;\">\n",
       "      <th>epoch</th>\n",
       "      <th>train_loss</th>\n",
       "      <th>valid_loss</th>\n",
       "      <th>root_mean_squared_error</th>\n",
       "      <th>time</th>\n",
       "    </tr>\n",
       "  </thead>\n",
       "  <tbody>\n",
       "    <tr>\n",
       "      <td>0</td>\n",
       "      <td>0.182881</td>\n",
       "      <td>#na#</td>\n",
       "      <td>00:06</td>\n",
       "    </tr>\n",
       "    <tr>\n",
       "      <td>1</td>\n",
       "      <td>0.115764</td>\n",
       "      <td>#na#</td>\n",
       "      <td>00:06</td>\n",
       "    </tr>\n",
       "  </tbody>\n",
       "</table><p>\n",
       "\n",
       "    <div>\n",
       "        <style>\n",
       "            /* Turns off some styling */\n",
       "            progress {\n",
       "                /* gets rid of default border in Firefox and Opera. */\n",
       "                border: none;\n",
       "                /* Needs to be in here for Safari polyfill so background images work as expected. */\n",
       "                background-size: auto;\n",
       "            }\n",
       "            .progress-bar-interrupted, .progress-bar-interrupted::-webkit-progress-bar {\n",
       "                background: #F44336;\n",
       "            }\n",
       "        </style>\n",
       "      <progress value='21' class='' max='39' style='width:300px; height:20px; vertical-align: middle;'></progress>\n",
       "      53.85% [21/39 00:04<00:03 0.1034]\n",
       "    </div>\n",
       "    "
      ],
      "text/plain": [
       "<IPython.core.display.HTML object>"
      ]
     },
     "metadata": {},
     "output_type": "display_data"
    },
    {
     "name": "stdout",
     "output_type": "stream",
     "text": [
      "LR Finder is complete, type {learner_name}.recorder.plot() to see the graph.\n",
      "Min numerical gradient: 3.63E-05\n",
      "Min loss divided by 10: 4.79E-03\n"
     ]
    },
    {
     "data": {
      "image/png": "[encoded data removed]",
      "text/plain": [
       "<Figure size 432x288 with 1 Axes>"
      ]
     },
     "metadata": {
      "needs_background": "light"
     },
     "output_type": "display_data"
    }
   ],
   "source": [
    "import fastai\n",
    "learn.unfreeze()\n",
    "learn.lr_find()\n",
    "learn.recorder.plot(suggestion = True)"
   ]
  },
  {
   "cell_type": "code",
   "execution_count": 19,
   "metadata": {},
   "outputs": [],
   "source": [
    "# lr = 4e-5\n",
    "lr=learn.recorder.min_grad_lr\n",
    "wd = lr/5\n",
    "epoch=100"
   ]
  },
  {
   "cell_type": "code",
   "execution_count": 20,
   "metadata": {},
   "outputs": [
    {
     "data": {
      "text/html": [
       "\n",
       "    <div>\n",
       "        <style>\n",
       "            /* Turns off some styling */\n",
       "            progress {\n",
       "                /* gets rid of default border in Firefox and Opera. */\n",
       "                border: none;\n",
       "                /* Needs to be in here for Safari polyfill so background images work as expected. */\n",
       "                background-size: auto;\n",
       "            }\n",
       "            .progress-bar-interrupted, .progress-bar-interrupted::-webkit-progress-bar {\n",
       "                background: #F44336;\n",
       "            }\n",
       "        </style>\n",
       "      <progress value='39' class='' max='100' style='width:300px; height:20px; vertical-align: middle;'></progress>\n",
       "      39.00% [39/100 06:10<09:39]\n",
       "    </div>\n",
       "    \n",
       "<table border=\"1\" class=\"dataframe\">\n",
       "  <thead>\n",
       "    <tr style=\"text-align: left;\">\n",
       "      <th>epoch</th>\n",
       "      <th>train_loss</th>\n",
       "      <th>valid_loss</th>\n",
       "      <th>root_mean_squared_error</th>\n",
       "      <th>time</th>\n",
       "    </tr>\n",
       "  </thead>\n",
       "  <tbody>\n",
       "    <tr>\n",
       "      <td>0</td>\n",
       "      <td>0.223325</td>\n",
       "      <td>0.192066</td>\n",
       "      <td>0.437771</td>\n",
       "      <td>00:08</td>\n",
       "    </tr>\n",
       "    <tr>\n",
       "      <td>1</td>\n",
       "      <td>0.170728</td>\n",
       "      <td>0.126881</td>\n",
       "      <td>0.355616</td>\n",
       "      <td>00:09</td>\n",
       "    </tr>\n",
       "    <tr>\n",
       "      <td>2</td>\n",
       "      <td>0.120621</td>\n",
       "      <td>0.073610</td>\n",
       "      <td>0.270680</td>\n",
       "      <td>00:08</td>\n",
       "    </tr>\n",
       "    <tr>\n",
       "      <td>3</td>\n",
       "      <td>0.079050</td>\n",
       "      <td>0.042032</td>\n",
       "      <td>0.204634</td>\n",
       "      <td>00:09</td>\n",
       "    </tr>\n",
       "    <tr>\n",
       "      <td>4</td>\n",
       "      <td>0.051813</td>\n",
       "      <td>0.030624</td>\n",
       "      <td>0.174926</td>\n",
       "      <td>00:09</td>\n",
       "    </tr>\n",
       "    <tr>\n",
       "      <td>5</td>\n",
       "      <td>0.036998</td>\n",
       "      <td>0.027725</td>\n",
       "      <td>0.166439</td>\n",
       "      <td>00:09</td>\n",
       "    </tr>\n",
       "    <tr>\n",
       "      <td>6</td>\n",
       "      <td>0.028358</td>\n",
       "      <td>0.025931</td>\n",
       "      <td>0.160841</td>\n",
       "      <td>00:09</td>\n",
       "    </tr>\n",
       "    <tr>\n",
       "      <td>7</td>\n",
       "      <td>0.023082</td>\n",
       "      <td>0.024423</td>\n",
       "      <td>0.155988</td>\n",
       "      <td>00:09</td>\n",
       "    </tr>\n",
       "    <tr>\n",
       "      <td>8</td>\n",
       "      <td>0.019497</td>\n",
       "      <td>0.023405</td>\n",
       "      <td>0.152431</td>\n",
       "      <td>00:09</td>\n",
       "    </tr>\n",
       "    <tr>\n",
       "      <td>9</td>\n",
       "      <td>0.016265</td>\n",
       "      <td>0.022405</td>\n",
       "      <td>0.149237</td>\n",
       "      <td>00:09</td>\n",
       "    </tr>\n",
       "    <tr>\n",
       "      <td>10</td>\n",
       "      <td>0.014102</td>\n",
       "      <td>0.021632</td>\n",
       "      <td>0.146456</td>\n",
       "      <td>00:09</td>\n",
       "    </tr>\n",
       "    <tr>\n",
       "      <td>11</td>\n",
       "      <td>0.012318</td>\n",
       "      <td>0.020847</td>\n",
       "      <td>0.143752</td>\n",
       "      <td>00:09</td>\n",
       "    </tr>\n",
       "    <tr>\n",
       "      <td>12</td>\n",
       "      <td>0.010876</td>\n",
       "      <td>0.020978</td>\n",
       "      <td>0.143963</td>\n",
       "      <td>00:08</td>\n",
       "    </tr>\n",
       "    <tr>\n",
       "      <td>13</td>\n",
       "      <td>0.009642</td>\n",
       "      <td>0.020236</td>\n",
       "      <td>0.141468</td>\n",
       "      <td>00:08</td>\n",
       "    </tr>\n",
       "    <tr>\n",
       "      <td>14</td>\n",
       "      <td>0.008014</td>\n",
       "      <td>0.019645</td>\n",
       "      <td>0.139558</td>\n",
       "      <td>00:09</td>\n",
       "    </tr>\n",
       "    <tr>\n",
       "      <td>15</td>\n",
       "      <td>0.007352</td>\n",
       "      <td>0.019587</td>\n",
       "      <td>0.139264</td>\n",
       "      <td>00:08</td>\n",
       "    </tr>\n",
       "    <tr>\n",
       "      <td>16</td>\n",
       "      <td>0.006339</td>\n",
       "      <td>0.020464</td>\n",
       "      <td>0.142324</td>\n",
       "      <td>00:08</td>\n",
       "    </tr>\n",
       "    <tr>\n",
       "      <td>17</td>\n",
       "      <td>0.005982</td>\n",
       "      <td>0.019790</td>\n",
       "      <td>0.140017</td>\n",
       "      <td>00:09</td>\n",
       "    </tr>\n",
       "    <tr>\n",
       "      <td>18</td>\n",
       "      <td>0.005516</td>\n",
       "      <td>0.019541</td>\n",
       "      <td>0.139255</td>\n",
       "      <td>00:09</td>\n",
       "    </tr>\n",
       "    <tr>\n",
       "      <td>19</td>\n",
       "      <td>0.005071</td>\n",
       "      <td>0.020025</td>\n",
       "      <td>0.140654</td>\n",
       "      <td>00:08</td>\n",
       "    </tr>\n",
       "    <tr>\n",
       "      <td>20</td>\n",
       "      <td>0.004779</td>\n",
       "      <td>0.018362</td>\n",
       "      <td>0.135029</td>\n",
       "      <td>00:08</td>\n",
       "    </tr>\n",
       "    <tr>\n",
       "      <td>21</td>\n",
       "      <td>0.004793</td>\n",
       "      <td>0.019842</td>\n",
       "      <td>0.140036</td>\n",
       "      <td>00:08</td>\n",
       "    </tr>\n",
       "    <tr>\n",
       "      <td>22</td>\n",
       "      <td>0.004436</td>\n",
       "      <td>0.018659</td>\n",
       "      <td>0.135862</td>\n",
       "      <td>00:08</td>\n",
       "    </tr>\n",
       "    <tr>\n",
       "      <td>23</td>\n",
       "      <td>0.004940</td>\n",
       "      <td>0.019906</td>\n",
       "      <td>0.140611</td>\n",
       "      <td>00:09</td>\n",
       "    </tr>\n",
       "    <tr>\n",
       "      <td>24</td>\n",
       "      <td>0.004663</td>\n",
       "      <td>0.018039</td>\n",
       "      <td>0.133806</td>\n",
       "      <td>00:09</td>\n",
       "    </tr>\n",
       "    <tr>\n",
       "      <td>25</td>\n",
       "      <td>0.004394</td>\n",
       "      <td>0.018716</td>\n",
       "      <td>0.136129</td>\n",
       "      <td>00:09</td>\n",
       "    </tr>\n",
       "    <tr>\n",
       "      <td>26</td>\n",
       "      <td>0.004161</td>\n",
       "      <td>0.018391</td>\n",
       "      <td>0.135218</td>\n",
       "      <td>00:09</td>\n",
       "    </tr>\n",
       "    <tr>\n",
       "      <td>27</td>\n",
       "      <td>0.004278</td>\n",
       "      <td>0.019006</td>\n",
       "      <td>0.137532</td>\n",
       "      <td>00:09</td>\n",
       "    </tr>\n",
       "    <tr>\n",
       "      <td>28</td>\n",
       "      <td>0.003956</td>\n",
       "      <td>0.018555</td>\n",
       "      <td>0.135811</td>\n",
       "      <td>00:09</td>\n",
       "    </tr>\n",
       "    <tr>\n",
       "      <td>29</td>\n",
       "      <td>0.003721</td>\n",
       "      <td>0.017490</td>\n",
       "      <td>0.131780</td>\n",
       "      <td>00:08</td>\n",
       "    </tr>\n",
       "    <tr>\n",
       "      <td>30</td>\n",
       "      <td>0.004081</td>\n",
       "      <td>0.018973</td>\n",
       "      <td>0.137110</td>\n",
       "      <td>00:09</td>\n",
       "    </tr>\n",
       "    <tr>\n",
       "      <td>31</td>\n",
       "      <td>0.003671</td>\n",
       "      <td>0.018012</td>\n",
       "      <td>0.133675</td>\n",
       "      <td>00:09</td>\n",
       "    </tr>\n",
       "    <tr>\n",
       "      <td>32</td>\n",
       "      <td>0.003304</td>\n",
       "      <td>0.018361</td>\n",
       "      <td>0.135077</td>\n",
       "      <td>00:09</td>\n",
       "    </tr>\n",
       "    <tr>\n",
       "      <td>33</td>\n",
       "      <td>0.003157</td>\n",
       "      <td>0.017599</td>\n",
       "      <td>0.132267</td>\n",
       "      <td>00:08</td>\n",
       "    </tr>\n",
       "    <tr>\n",
       "      <td>34</td>\n",
       "      <td>0.003010</td>\n",
       "      <td>0.017423</td>\n",
       "      <td>0.131648</td>\n",
       "      <td>00:09</td>\n",
       "    </tr>\n",
       "    <tr>\n",
       "      <td>35</td>\n",
       "      <td>0.002869</td>\n",
       "      <td>0.017653</td>\n",
       "      <td>0.132398</td>\n",
       "      <td>00:08</td>\n",
       "    </tr>\n",
       "    <tr>\n",
       "      <td>36</td>\n",
       "      <td>0.002994</td>\n",
       "      <td>0.018068</td>\n",
       "      <td>0.133703</td>\n",
       "      <td>00:09</td>\n",
       "    </tr>\n",
       "    <tr>\n",
       "      <td>37</td>\n",
       "      <td>0.003097</td>\n",
       "      <td>0.018145</td>\n",
       "      <td>0.134355</td>\n",
       "      <td>00:09</td>\n",
       "    </tr>\n",
       "    <tr>\n",
       "      <td>38</td>\n",
       "      <td>0.003019</td>\n",
       "      <td>0.018340</td>\n",
       "      <td>0.134784</td>\n",
       "      <td>00:09</td>\n",
       "    </tr>\n",
       "  </tbody>\n",
       "</table><p>\n",
       "\n",
       "    <div>\n",
       "        <style>\n",
       "            /* Turns off some styling */\n",
       "            progress {\n",
       "                /* gets rid of default border in Firefox and Opera. */\n",
       "                border: none;\n",
       "                /* Needs to be in here for Safari polyfill so background images work as expected. */\n",
       "                background-size: auto;\n",
       "            }\n",
       "            .progress-bar-interrupted, .progress-bar-interrupted::-webkit-progress-bar {\n",
       "                background: #F44336;\n",
       "            }\n",
       "        </style>\n",
       "      <progress value='10' class='' max='10' style='width:300px; height:20px; vertical-align: middle;'></progress>\n",
       "      100.00% [10/10 00:02<00:00]\n",
       "    </div>\n",
       "    "
      ],
      "text/plain": [
       "<IPython.core.display.HTML object>"
      ]
     },
     "metadata": {},
     "output_type": "display_data"
    },
    {
     "data": {
      "image/png": "[encoded data removed]",
      "text/plain": [
       "<Figure size 432x288 with 1 Axes>"
      ]
     },
     "metadata": {},
     "output_type": "display_data"
    },
    {
     "name": "stdout",
     "output_type": "stream",
     "text": [
      "Better model found at epoch 0 with valid_loss value: 0.19206584990024567.\n",
      "Better model found at epoch 1 with valid_loss value: 0.1268807351589203.\n",
      "Better model found at epoch 2 with valid_loss value: 0.07361017912626266.\n",
      "Better model found at epoch 3 with valid_loss value: 0.042032234370708466.\n",
      "Better model found at epoch 4 with valid_loss value: 0.030623840168118477.\n",
      "Better model found at epoch 5 with valid_loss value: 0.02772476337850094.\n",
      "Better model found at epoch 6 with valid_loss value: 0.02593054622411728.\n",
      "Better model found at epoch 7 with valid_loss value: 0.024422956630587578.\n",
      "Better model found at epoch 8 with valid_loss value: 0.023405179381370544.\n",
      "Better model found at epoch 9 with valid_loss value: 0.022405050694942474.\n",
      "Better model found at epoch 10 with valid_loss value: 0.02163204923272133.\n",
      "Better model found at epoch 11 with valid_loss value: 0.020847037434577942.\n",
      "Better model found at epoch 13 with valid_loss value: 0.020235687494277954.\n",
      "Better model found at epoch 14 with valid_loss value: 0.01964481547474861.\n",
      "Better model found at epoch 15 with valid_loss value: 0.019586578011512756.\n",
      "Better model found at epoch 18 with valid_loss value: 0.019540861248970032.\n",
      "Better model found at epoch 20 with valid_loss value: 0.018362384289503098.\n",
      "Better model found at epoch 24 with valid_loss value: 0.018039146438241005.\n",
      "Better model found at epoch 29 with valid_loss value: 0.017489701509475708.\n",
      "Better model found at epoch 34 with valid_loss value: 0.017423436045646667.\n",
      "Epoch 39: early stopping\n"
     ]
    },
    {
     "data": {
      "image/png": "[encoded data removed]",
      "text/plain": [
       "<Figure size 432x288 with 1 Axes>"
      ]
     },
     "metadata": {
      "needs_background": "light"
     },
     "output_type": "display_data"
    }
   ],
   "source": [
    "# from fastai.callbacks.flat_cos_anneal import FlatCosAnnealScheduler\n",
    "# learn.fit_one_cycle(epoch, max_lr=lr,wd=wd,callbacks=[SaveModelCallback(learn)])\n",
    "learn.fit_one_cycle(epoch, lr, wd=wd, callbacks=[SaveModelCallback(learn),EarlyStoppingCallback(learn,patience=4)])"
   ]
  },
  {
   "cell_type": "code",
   "execution_count": 27,
   "metadata": {},
   "outputs": [],
   "source": [
    "learn.save('resnet50_vad_IAPS_0.017423')\n",
    "# learn.load('first_head_resnet34')"
   ]
  }
 ],
 "metadata": {
  "kernelspec": {
   "display_name": "Python 3",
   "language": "python",
   "name": "python3"
  },
  "language_info": {
   "codemirror_mode": {
    "name": "ipython",
    "version": 3
   },
   "file_extension": ".py",
   "mimetype": "text/x-python",
   "name": "python",
   "nbconvert_exporter": "python",
   "pygments_lexer": "ipython3",
   "version": "3.7.1"
  }
 },
 "nbformat": 4,
 "nbformat_minor": 4
}
